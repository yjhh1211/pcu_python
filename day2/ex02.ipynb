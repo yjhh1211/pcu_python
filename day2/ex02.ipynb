{
 "cells": [
  {
   "cell_type": "code",
   "execution_count": 463,
   "id": "fe668f92",
   "metadata": {},
   "outputs": [],
   "source": [
    "import urllib.request\n",
    "client_id=\"AJj1g19VDMUEPfuhWX1J\"\n",
    "client_secret=\"TqsnGMK_xn\""
   ]
  },
  {
   "cell_type": "code",
   "execution_count": 464,
   "id": "2addf448",
   "metadata": {},
   "outputs": [],
   "source": [
    "import json"
   ]
  },
  {
   "cell_type": "code",
   "execution_count": 465,
   "id": "041aaf67",
   "metadata": {},
   "outputs": [],
   "source": [
    "def create_url(api_node, search_text, start_num, disp_num):\n",
    "    base = \"https://openapi.naver.com/v1/search\"\n",
    "    node = \"/\"+api_node+\".json\"\n",
    "    param_query = \"?query=\" + urllib.parse.quote(search_text)\n",
    "    param_start = \"&start=\" + str(start_num)\n",
    "    param_disp = \"&display=\" + str(disp_num)\n",
    "    \n",
    "    return base+node+param_query+param_start+param_disp"
   ]
  },
  {
   "cell_type": "code",
   "execution_count": 466,
   "id": "90f25951",
   "metadata": {},
   "outputs": [],
   "source": [
    "url = create_url(\"book\", \"파이썬\", 1,3)"
   ]
  },
  {
   "cell_type": "code",
   "execution_count": 467,
   "id": "88543505",
   "metadata": {},
   "outputs": [
    {
     "name": "stdout",
     "output_type": "stream",
     "text": [
      "200\n"
     ]
    }
   ],
   "source": [
    "request = urllib.request.Request(url)\n",
    "request.add_header(\"X-Naver-Client-Id\", client_id)\n",
    "request.add_header(\"X-Naver-Client-Secret\", client_secret)\n",
    "response = urllib.request.urlopen(request)\n",
    "print(response.getcode())"
   ]
  },
  {
   "cell_type": "code",
   "execution_count": 468,
   "id": "2aff7e6f",
   "metadata": {},
   "outputs": [
    {
     "data": {
      "text/plain": [
       "{'lastBuildDate': 'Wed, 24 Nov 2021 20:05:39 +0900',\n",
       " 'total': 1407,\n",
       " 'start': 1,\n",
       " 'display': 3,\n",
       " 'items': [{'title': '이것이 취업을 위한 코딩 테스트다 with <b>파이썬</b> (취업과 이직을 결정하는 알고리즘 인터뷰 완벽 가이드, C/C++, 자바 코드 제공)',\n",
       "   'link': 'http://book.naver.com/bookdb/book_detail.php?bid=16439154',\n",
       "   'image': 'https://bookthumb-phinf.pstatic.net/cover/164/391/16439154.jpg?type=m1&udate=20200928',\n",
       "   'author': '나동빈',\n",
       "   'price': '34000',\n",
       "   'discount': '30600',\n",
       "   'publisher': '한빛미디어',\n",
       "   'pubdate': '20200805',\n",
       "   'isbn': '1162243074 9791162243077',\n",
       "   'description': '8가지 핵심 알고리즘 이론을 쉽게 설명하고, 관련 실전 문제를 풀이했다. 출제 유형 분석, 이론 설명, 기출문제 풀이까지! 어떤 코딩 테스트도 이 책 한 권으로 대비할 수 있을 것이다. 코딩 테스트에서 주로 선택하는 <b>파이썬</b>을 기반으로 설명되어 있으며, <b>파이썬</b> 코드 외에도 C/C++, 자바 코드를 추가로 제공한다.'},\n",
       "  {'title': '혼자 공부하는 <b>파이썬</b> (<b>파이썬</b> 최신 버전 반영)',\n",
       "   'link': 'http://book.naver.com/bookdb/book_detail.php?bid=15028688',\n",
       "   'image': 'https://bookthumb-phinf.pstatic.net/cover/150/286/15028688.jpg?type=m1&udate=20210809',\n",
       "   'author': '윤인성',\n",
       "   'price': '18000',\n",
       "   'discount': '16200',\n",
       "   'publisher': '한빛미디어',\n",
       "   'pubdate': '20190610',\n",
       "   'isbn': '1162241888 9791162241882',\n",
       "   'description': '1:1 과외하듯 배우는 <b>파이썬</b> 프로그래밍 자습서(<b>파이썬</b> 최신 버전 반영)\\n27명의 베타리더 검증으로, ‘함께 만든’ 입문자 맞춤형 도서\\n이 책은 독학으로 프로그래밍 언어를 처음 배우려는 입문자가, 혹은 <b>파이썬</b>을 배우려는 입문자가 ‘꼭 필요한 내용을 제대로’ 학습할 수 있도록 구성했다. ‘무엇을’... '},\n",
       "  {'title': 'Do it! 점프 투 <b>파이썬</b>',\n",
       "   'link': 'http://book.naver.com/bookdb/book_detail.php?bid=15052904',\n",
       "   'image': 'https://bookthumb-phinf.pstatic.net/cover/150/529/15052904.jpg?type=m1&udate=20200910',\n",
       "   'author': '박응용',\n",
       "   'price': '18800',\n",
       "   'discount': '16900',\n",
       "   'publisher': '이지스퍼블리싱',\n",
       "   'pubdate': '20190620',\n",
       "   'isbn': '1163030910 9791163030911',\n",
       "   'description': '<b>파이썬</b> 4년 연속 베스트셀러 1위!\\n《DO IT! 점프 투 <b>파이썬</b>》 전면 개정판 출시!문과생도 중고등학생도 직장인도 프로그래밍에 눈뜨게 만든 바로 그 책이... 점프 투 <b>파이썬</b>》으로 출간되었던 이 책은 약 4년 동안의 피드백을 반영하여 초보자가 더 빠르게 입문하고, 더 깊이 있게 공부할 수 있도록 개정되었다.... '}]}"
      ]
     },
     "execution_count": 468,
     "metadata": {},
     "output_type": "execute_result"
    }
   ],
   "source": [
    "result=json.loads(response.read().decode('utf-8'))\n",
    "result"
   ]
  },
  {
   "cell_type": "code",
   "execution_count": 469,
   "id": "73d43a8e",
   "metadata": {},
   "outputs": [
    {
     "data": {
      "text/plain": [
       "3"
      ]
     },
     "execution_count": 469,
     "metadata": {},
     "output_type": "execute_result"
    }
   ],
   "source": [
    "result['display']"
   ]
  },
  {
   "cell_type": "code",
   "execution_count": 470,
   "id": "7abbe702",
   "metadata": {},
   "outputs": [
    {
     "data": {
      "text/plain": [
       "[{'title': '이것이 취업을 위한 코딩 테스트다 with <b>파이썬</b> (취업과 이직을 결정하는 알고리즘 인터뷰 완벽 가이드, C/C++, 자바 코드 제공)',\n",
       "  'link': 'http://book.naver.com/bookdb/book_detail.php?bid=16439154',\n",
       "  'image': 'https://bookthumb-phinf.pstatic.net/cover/164/391/16439154.jpg?type=m1&udate=20200928',\n",
       "  'author': '나동빈',\n",
       "  'price': '34000',\n",
       "  'discount': '30600',\n",
       "  'publisher': '한빛미디어',\n",
       "  'pubdate': '20200805',\n",
       "  'isbn': '1162243074 9791162243077',\n",
       "  'description': '8가지 핵심 알고리즘 이론을 쉽게 설명하고, 관련 실전 문제를 풀이했다. 출제 유형 분석, 이론 설명, 기출문제 풀이까지! 어떤 코딩 테스트도 이 책 한 권으로 대비할 수 있을 것이다. 코딩 테스트에서 주로 선택하는 <b>파이썬</b>을 기반으로 설명되어 있으며, <b>파이썬</b> 코드 외에도 C/C++, 자바 코드를 추가로 제공한다.'},\n",
       " {'title': '혼자 공부하는 <b>파이썬</b> (<b>파이썬</b> 최신 버전 반영)',\n",
       "  'link': 'http://book.naver.com/bookdb/book_detail.php?bid=15028688',\n",
       "  'image': 'https://bookthumb-phinf.pstatic.net/cover/150/286/15028688.jpg?type=m1&udate=20210809',\n",
       "  'author': '윤인성',\n",
       "  'price': '18000',\n",
       "  'discount': '16200',\n",
       "  'publisher': '한빛미디어',\n",
       "  'pubdate': '20190610',\n",
       "  'isbn': '1162241888 9791162241882',\n",
       "  'description': '1:1 과외하듯 배우는 <b>파이썬</b> 프로그래밍 자습서(<b>파이썬</b> 최신 버전 반영)\\n27명의 베타리더 검증으로, ‘함께 만든’ 입문자 맞춤형 도서\\n이 책은 독학으로 프로그래밍 언어를 처음 배우려는 입문자가, 혹은 <b>파이썬</b>을 배우려는 입문자가 ‘꼭 필요한 내용을 제대로’ 학습할 수 있도록 구성했다. ‘무엇을’... '},\n",
       " {'title': 'Do it! 점프 투 <b>파이썬</b>',\n",
       "  'link': 'http://book.naver.com/bookdb/book_detail.php?bid=15052904',\n",
       "  'image': 'https://bookthumb-phinf.pstatic.net/cover/150/529/15052904.jpg?type=m1&udate=20200910',\n",
       "  'author': '박응용',\n",
       "  'price': '18800',\n",
       "  'discount': '16900',\n",
       "  'publisher': '이지스퍼블리싱',\n",
       "  'pubdate': '20190620',\n",
       "  'isbn': '1163030910 9791163030911',\n",
       "  'description': '<b>파이썬</b> 4년 연속 베스트셀러 1위!\\n《DO IT! 점프 투 <b>파이썬</b>》 전면 개정판 출시!문과생도 중고등학생도 직장인도 프로그래밍에 눈뜨게 만든 바로 그 책이... 점프 투 <b>파이썬</b>》으로 출간되었던 이 책은 약 4년 동안의 피드백을 반영하여 초보자가 더 빠르게 입문하고, 더 깊이 있게 공부할 수 있도록 개정되었다.... '}]"
      ]
     },
     "execution_count": 470,
     "metadata": {},
     "output_type": "execute_result"
    }
   ],
   "source": [
    "result['items']"
   ]
  },
  {
   "cell_type": "code",
   "execution_count": 471,
   "id": "5defd6b2",
   "metadata": {},
   "outputs": [
    {
     "data": {
      "text/plain": [
       "3"
      ]
     },
     "execution_count": 471,
     "metadata": {},
     "output_type": "execute_result"
    }
   ],
   "source": [
    "len(result['items'])"
   ]
  },
  {
   "cell_type": "code",
   "execution_count": 472,
   "id": "31f52338",
   "metadata": {},
   "outputs": [
    {
     "data": {
      "text/plain": [
       "['이것이 취업을 위한 코딩 테스트다 with <b>파이썬</b> (취업과 이직을 결정하는 알고리즘 인터뷰 완벽 가이드, C/C++, 자바 코드 제공)',\n",
       " '혼자 공부하는 <b>파이썬</b> (<b>파이썬</b> 최신 버전 반영)',\n",
       " 'Do it! 점프 투 <b>파이썬</b>']"
      ]
     },
     "execution_count": 472,
     "metadata": {},
     "output_type": "execute_result"
    }
   ],
   "source": [
    "titles=[result['items'][n]['title'] for n in range(3)]\n",
    "titles"
   ]
  },
  {
   "cell_type": "code",
   "execution_count": 473,
   "id": "6f6f9508",
   "metadata": {},
   "outputs": [],
   "source": [
    "\n",
    "def delete_tag(input_str):\n",
    "    input_str = input_str.replace(\"<b>\", \"\")\n",
    "    input_str = input_str.replace(\"</b\",\"\")\n",
    "    return input_str"
   ]
  },
  {
   "cell_type": "code",
   "execution_count": 474,
   "id": "78c65056",
   "metadata": {},
   "outputs": [
    {
     "data": {
      "text/plain": [
       "'이것이 취업을 위한 코딩 테스트다 with 파이썬> (취업과 이직을 결정하는 알고리즘 인터뷰 완벽 가이드, C/C++, 자바 코드 제공)'"
      ]
     },
     "execution_count": 474,
     "metadata": {},
     "output_type": "execute_result"
    }
   ],
   "source": [
    "delete_tag(result['items'][0]['title'])"
   ]
  },
  {
   "cell_type": "code",
   "execution_count": 475,
   "id": "1812d5c7",
   "metadata": {},
   "outputs": [
    {
     "data": {
      "text/plain": [
       "['이것이 취업을 위한 코딩 테스트다 with 파이썬> (취업과 이직을 결정하는 알고리즘 인터뷰 완벽 가이드, C/C++, 자바 코드 제공)',\n",
       " '혼자 공부하는 파이썬> (파이썬> 최신 버전 반영)',\n",
       " 'Do it! 점프 투 파이썬>']"
      ]
     },
     "execution_count": 475,
     "metadata": {},
     "output_type": "execute_result"
    }
   ],
   "source": [
    "titles=[delete_tag(result['items'][n]['title'])for n in range(3)]\n",
    "titles"
   ]
  },
  {
   "cell_type": "code",
   "execution_count": 476,
   "id": "49c0208c",
   "metadata": {},
   "outputs": [
    {
     "data": {
      "text/plain": [
       "['나동빈', '윤인성', '박응용']"
      ]
     },
     "execution_count": 476,
     "metadata": {},
     "output_type": "execute_result"
    }
   ],
   "source": [
    "authors=[result['items'][n]['author']for n in range(3)]\n",
    "authors"
   ]
  },
  {
   "cell_type": "code",
   "execution_count": 477,
   "id": "61844dc0",
   "metadata": {},
   "outputs": [
    {
     "data": {
      "text/plain": [
       "['20200805', '20190610', '20190620']"
      ]
     },
     "execution_count": 477,
     "metadata": {},
     "output_type": "execute_result"
    }
   ],
   "source": [
    "pubdates = [result['items'][n]['pubdate'] for n in range(3)]\n",
    "pubdates"
   ]
  },
  {
   "cell_type": "code",
   "execution_count": 478,
   "id": "cef87105",
   "metadata": {},
   "outputs": [],
   "source": [
    "import pandas as pd"
   ]
  },
  {
   "cell_type": "code",
   "execution_count": 479,
   "id": "08a3cd97",
   "metadata": {},
   "outputs": [
    {
     "data": {
      "text/html": [
       "<div>\n",
       "<style scoped>\n",
       "    .dataframe tbody tr th:only-of-type {\n",
       "        vertical-align: middle;\n",
       "    }\n",
       "\n",
       "    .dataframe tbody tr th {\n",
       "        vertical-align: top;\n",
       "    }\n",
       "\n",
       "    .dataframe thead th {\n",
       "        text-align: right;\n",
       "    }\n",
       "</style>\n",
       "<table border=\"1\" class=\"dataframe\">\n",
       "  <thead>\n",
       "    <tr style=\"text-align: right;\">\n",
       "      <th></th>\n",
       "      <th>책제목</th>\n",
       "      <th>작가</th>\n",
       "      <th>출판일</th>\n",
       "    </tr>\n",
       "  </thead>\n",
       "  <tbody>\n",
       "    <tr>\n",
       "      <th>0</th>\n",
       "      <td>이것이 취업을 위한 코딩 테스트다 with 파이썬&gt; (취업과 이직을 결정하는 알고리...</td>\n",
       "      <td>나동빈</td>\n",
       "      <td>20200805</td>\n",
       "    </tr>\n",
       "    <tr>\n",
       "      <th>1</th>\n",
       "      <td>혼자 공부하는 파이썬&gt; (파이썬&gt; 최신 버전 반영)</td>\n",
       "      <td>윤인성</td>\n",
       "      <td>20190610</td>\n",
       "    </tr>\n",
       "    <tr>\n",
       "      <th>2</th>\n",
       "      <td>Do it! 점프 투 파이썬&gt;</td>\n",
       "      <td>박응용</td>\n",
       "      <td>20190620</td>\n",
       "    </tr>\n",
       "  </tbody>\n",
       "</table>\n",
       "</div>"
      ],
      "text/plain": [
       "                                                 책제목   작가       출판일\n",
       "0  이것이 취업을 위한 코딩 테스트다 with 파이썬> (취업과 이직을 결정하는 알고리...  나동빈  20200805\n",
       "1                       혼자 공부하는 파이썬> (파이썬> 최신 버전 반영)  윤인성  20190610\n",
       "2                                   Do it! 점프 투 파이썬>  박응용  20190620"
      ]
     },
     "execution_count": 479,
     "metadata": {},
     "output_type": "execute_result"
    }
   ],
   "source": [
    "pd.DataFrame({'책제목':titles, '작가':authors, '출판일':pubdates})"
   ]
  },
  {
   "cell_type": "code",
   "execution_count": 480,
   "id": "2fd64036",
   "metadata": {},
   "outputs": [],
   "source": [
    "def get_dataframe(url):\n",
    "    request = urllib.request.Request(url)\n",
    "    request.add_header(\"X-Naver-Client-Id\", client_id)\n",
    "    request.add_header(\"X-Naver-Client-Secret\", client_secret)\n",
    "    response = urllib.request.urlopen(request)\n",
    "    result = json.loads(response.read().decode('utf-8'))\n",
    "    end_num = result['display']\n",
    "    titles=[delete_tag(result['items'][n]['title']) for n in range(end_num)]\n",
    "    authors = [result['items'][n]['author'] for n in range(end_num)]\n",
    "    pubdates = [result['items'][n]['pubdate'] for n in range(end_num)]\n",
    "    \n",
    "    \n",
    "    return pd.DataFrame({'책제목':titles, '작가':authors, '출판일':pubdates})"
   ]
  },
  {
   "cell_type": "code",
   "execution_count": 481,
   "id": "4a36e6bf",
   "metadata": {},
   "outputs": [
    {
     "data": {
      "text/html": [
       "<div>\n",
       "<style scoped>\n",
       "    .dataframe tbody tr th:only-of-type {\n",
       "        vertical-align: middle;\n",
       "    }\n",
       "\n",
       "    .dataframe tbody tr th {\n",
       "        vertical-align: top;\n",
       "    }\n",
       "\n",
       "    .dataframe thead th {\n",
       "        text-align: right;\n",
       "    }\n",
       "</style>\n",
       "<table border=\"1\" class=\"dataframe\">\n",
       "  <thead>\n",
       "    <tr style=\"text-align: right;\">\n",
       "      <th></th>\n",
       "      <th>책제목</th>\n",
       "      <th>작가</th>\n",
       "      <th>출판일</th>\n",
       "    </tr>\n",
       "  </thead>\n",
       "  <tbody>\n",
       "    <tr>\n",
       "      <th>0</th>\n",
       "      <td>이것이 취업을 위한 코딩 테스트다 with 파이썬&gt; (취업과 이직을 결정하는 알고리...</td>\n",
       "      <td>나동빈</td>\n",
       "      <td>20200805</td>\n",
       "    </tr>\n",
       "    <tr>\n",
       "      <th>1</th>\n",
       "      <td>혼자 공부하는 파이썬&gt; (파이썬&gt; 최신 버전 반영)</td>\n",
       "      <td>윤인성</td>\n",
       "      <td>20190610</td>\n",
       "    </tr>\n",
       "    <tr>\n",
       "      <th>2</th>\n",
       "      <td>Do it! 점프 투 파이썬&gt;</td>\n",
       "      <td>박응용</td>\n",
       "      <td>20190620</td>\n",
       "    </tr>\n",
       "  </tbody>\n",
       "</table>\n",
       "</div>"
      ],
      "text/plain": [
       "                                                 책제목   작가       출판일\n",
       "0  이것이 취업을 위한 코딩 테스트다 with 파이썬> (취업과 이직을 결정하는 알고리...  나동빈  20200805\n",
       "1                       혼자 공부하는 파이썬> (파이썬> 최신 버전 반영)  윤인성  20190610\n",
       "2                                   Do it! 점프 투 파이썬>  박응용  20190620"
      ]
     },
     "execution_count": 481,
     "metadata": {},
     "output_type": "execute_result"
    }
   ],
   "source": [
    "get_dataframe(url)"
   ]
  },
  {
   "cell_type": "code",
   "execution_count": 482,
   "id": "03dbf06d",
   "metadata": {},
   "outputs": [],
   "source": [
    "result_search=[]"
   ]
  },
  {
   "cell_type": "code",
   "execution_count": 483,
   "id": "96328922",
   "metadata": {},
   "outputs": [],
   "source": [
    "for n in range(1,1000,100):\n",
    "    url=create_url(\"book\", \"파이썬\",n,100)\n",
    "    result_search.append(get_dataframe(url))\n",
    "    \n",
    "result_search=pd.concat(result_search)"
   ]
  },
  {
   "cell_type": "code",
   "execution_count": 484,
   "id": "796f5db1",
   "metadata": {},
   "outputs": [
    {
     "data": {
      "text/html": [
       "<div>\n",
       "<style scoped>\n",
       "    .dataframe tbody tr th:only-of-type {\n",
       "        vertical-align: middle;\n",
       "    }\n",
       "\n",
       "    .dataframe tbody tr th {\n",
       "        vertical-align: top;\n",
       "    }\n",
       "\n",
       "    .dataframe thead th {\n",
       "        text-align: right;\n",
       "    }\n",
       "</style>\n",
       "<table border=\"1\" class=\"dataframe\">\n",
       "  <thead>\n",
       "    <tr style=\"text-align: right;\">\n",
       "      <th></th>\n",
       "      <th>책제목</th>\n",
       "      <th>작가</th>\n",
       "      <th>출판일</th>\n",
       "    </tr>\n",
       "  </thead>\n",
       "  <tbody>\n",
       "    <tr>\n",
       "      <th>0</th>\n",
       "      <td>이것이 취업을 위한 코딩 테스트다 with 파이썬&gt; (취업과 이직을 결정하는 알고리...</td>\n",
       "      <td>나동빈</td>\n",
       "      <td>20200805</td>\n",
       "    </tr>\n",
       "    <tr>\n",
       "      <th>1</th>\n",
       "      <td>혼자 공부하는 파이썬&gt; (파이썬&gt; 최신 버전 반영)</td>\n",
       "      <td>윤인성</td>\n",
       "      <td>20190610</td>\n",
       "    </tr>\n",
       "    <tr>\n",
       "      <th>2</th>\n",
       "      <td>Do it! 점프 투 파이썬&gt;</td>\n",
       "      <td>박응용</td>\n",
       "      <td>20190620</td>\n",
       "    </tr>\n",
       "    <tr>\n",
       "      <th>3</th>\n",
       "      <td>파이썬&gt; 알고리즘 인터뷰 (95가지 알고리즘 문제 풀이로 완성하는 코딩 테스트)</td>\n",
       "      <td>박상길</td>\n",
       "      <td>20200715</td>\n",
       "    </tr>\n",
       "    <tr>\n",
       "      <th>4</th>\n",
       "      <td>파이썬&gt;(Python) 2학년 스크래핑의 구조 (체험으로 배우고! 대화 형식으로 공부!)</td>\n",
       "      <td>모리 요시나오</td>\n",
       "      <td>20211117</td>\n",
       "    </tr>\n",
       "  </tbody>\n",
       "</table>\n",
       "</div>"
      ],
      "text/plain": [
       "                                                 책제목       작가       출판일\n",
       "0  이것이 취업을 위한 코딩 테스트다 with 파이썬> (취업과 이직을 결정하는 알고리...      나동빈  20200805\n",
       "1                       혼자 공부하는 파이썬> (파이썬> 최신 버전 반영)      윤인성  20190610\n",
       "2                                   Do it! 점프 투 파이썬>      박응용  20190620\n",
       "3       파이썬> 알고리즘 인터뷰 (95가지 알고리즘 문제 풀이로 완성하는 코딩 테스트)      박상길  20200715\n",
       "4  파이썬>(Python) 2학년 스크래핑의 구조 (체험으로 배우고! 대화 형식으로 공부!)  모리 요시나오  20211117"
      ]
     },
     "execution_count": 484,
     "metadata": {},
     "output_type": "execute_result"
    }
   ],
   "source": [
    "result_search.head()"
   ]
  },
  {
   "cell_type": "code",
   "execution_count": 485,
   "id": "1fb8f23a",
   "metadata": {},
   "outputs": [
    {
     "name": "stdout",
     "output_type": "stream",
     "text": [
      "<class 'pandas.core.frame.DataFrame'>\n",
      "Int64Index: 1000 entries, 0 to 99\n",
      "Data columns (total 3 columns):\n",
      " #   Column  Non-Null Count  Dtype \n",
      "---  ------  --------------  ----- \n",
      " 0   책제목     1000 non-null   object\n",
      " 1   작가      1000 non-null   object\n",
      " 2   출판일     1000 non-null   object\n",
      "dtypes: object(3)\n",
      "memory usage: 31.2+ KB\n"
     ]
    }
   ],
   "source": [
    "result_search.info()"
   ]
  },
  {
   "cell_type": "code",
   "execution_count": 486,
   "id": "e9804fba",
   "metadata": {},
   "outputs": [
    {
     "data": {
      "text/html": [
       "<div>\n",
       "<style scoped>\n",
       "    .dataframe tbody tr th:only-of-type {\n",
       "        vertical-align: middle;\n",
       "    }\n",
       "\n",
       "    .dataframe tbody tr th {\n",
       "        vertical-align: top;\n",
       "    }\n",
       "\n",
       "    .dataframe thead th {\n",
       "        text-align: right;\n",
       "    }\n",
       "</style>\n",
       "<table border=\"1\" class=\"dataframe\">\n",
       "  <thead>\n",
       "    <tr style=\"text-align: right;\">\n",
       "      <th></th>\n",
       "      <th>index</th>\n",
       "      <th>책제목</th>\n",
       "      <th>작가</th>\n",
       "      <th>출판일</th>\n",
       "    </tr>\n",
       "  </thead>\n",
       "  <tbody>\n",
       "    <tr>\n",
       "      <th>0</th>\n",
       "      <td>0</td>\n",
       "      <td>이것이 취업을 위한 코딩 테스트다 with 파이썬&gt; (취업과 이직을 결정하는 알고리...</td>\n",
       "      <td>나동빈</td>\n",
       "      <td>20200805</td>\n",
       "    </tr>\n",
       "    <tr>\n",
       "      <th>1</th>\n",
       "      <td>1</td>\n",
       "      <td>혼자 공부하는 파이썬&gt; (파이썬&gt; 최신 버전 반영)</td>\n",
       "      <td>윤인성</td>\n",
       "      <td>20190610</td>\n",
       "    </tr>\n",
       "    <tr>\n",
       "      <th>2</th>\n",
       "      <td>2</td>\n",
       "      <td>Do it! 점프 투 파이썬&gt;</td>\n",
       "      <td>박응용</td>\n",
       "      <td>20190620</td>\n",
       "    </tr>\n",
       "    <tr>\n",
       "      <th>3</th>\n",
       "      <td>3</td>\n",
       "      <td>파이썬&gt; 알고리즘 인터뷰 (95가지 알고리즘 문제 풀이로 완성하는 코딩 테스트)</td>\n",
       "      <td>박상길</td>\n",
       "      <td>20200715</td>\n",
       "    </tr>\n",
       "    <tr>\n",
       "      <th>4</th>\n",
       "      <td>4</td>\n",
       "      <td>파이썬&gt;(Python) 2학년 스크래핑의 구조 (체험으로 배우고! 대화 형식으로 공부!)</td>\n",
       "      <td>모리 요시나오</td>\n",
       "      <td>20211117</td>\n",
       "    </tr>\n",
       "    <tr>\n",
       "      <th>...</th>\n",
       "      <td>...</td>\n",
       "      <td>...</td>\n",
       "      <td>...</td>\n",
       "      <td>...</td>\n",
       "    </tr>\n",
       "    <tr>\n",
       "      <th>995</th>\n",
       "      <td>95</td>\n",
       "      <td>Deep Learning Cookbook (빠르게 실무에 적용할 수 있는 딥러닝으로...</td>\n",
       "      <td>Douwe Osinga</td>\n",
       "      <td>20190107</td>\n",
       "    </tr>\n",
       "    <tr>\n",
       "      <th>996</th>\n",
       "      <td>96</td>\n",
       "      <td>재무빅데이터 분석사 2급 (하)</td>\n",
       "      <td>김태식</td>\n",
       "      <td>20200207</td>\n",
       "    </tr>\n",
       "    <tr>\n",
       "      <th>997</th>\n",
       "      <td>97</td>\n",
       "      <td>Make: 아두이노 DIY 프로젝트</td>\n",
       "      <td>키모 카르비넨|테로 카르비넨</td>\n",
       "      <td>20140106</td>\n",
       "    </tr>\n",
       "    <tr>\n",
       "      <th>998</th>\n",
       "      <td>98</td>\n",
       "      <td>Spark와 머신 러닝 (빅데이터 분석과 예측 모델 트레이닝을 위한)</td>\n",
       "      <td>닉 펜트레스</td>\n",
       "      <td>20160104</td>\n",
       "    </tr>\n",
       "    <tr>\n",
       "      <th>999</th>\n",
       "      <td>99</td>\n",
       "      <td>텐서플로우 원리와 응용 (예제로 풀어보는)</td>\n",
       "      <td>황원지앤|탕위앤</td>\n",
       "      <td>20181102</td>\n",
       "    </tr>\n",
       "  </tbody>\n",
       "</table>\n",
       "<p>1000 rows × 4 columns</p>\n",
       "</div>"
      ],
      "text/plain": [
       "     index                                                책제목  \\\n",
       "0        0  이것이 취업을 위한 코딩 테스트다 with 파이썬> (취업과 이직을 결정하는 알고리...   \n",
       "1        1                       혼자 공부하는 파이썬> (파이썬> 최신 버전 반영)   \n",
       "2        2                                   Do it! 점프 투 파이썬>   \n",
       "3        3       파이썬> 알고리즘 인터뷰 (95가지 알고리즘 문제 풀이로 완성하는 코딩 테스트)   \n",
       "4        4  파이썬>(Python) 2학년 스크래핑의 구조 (체험으로 배우고! 대화 형식으로 공부!)   \n",
       "..     ...                                                ...   \n",
       "995     95  Deep Learning Cookbook (빠르게 실무에 적용할 수 있는 딥러닝으로...   \n",
       "996     96                                  재무빅데이터 분석사 2급 (하)   \n",
       "997     97                                Make: 아두이노 DIY 프로젝트   \n",
       "998     98             Spark와 머신 러닝 (빅데이터 분석과 예측 모델 트레이닝을 위한)   \n",
       "999     99                            텐서플로우 원리와 응용 (예제로 풀어보는)   \n",
       "\n",
       "                  작가       출판일  \n",
       "0                나동빈  20200805  \n",
       "1                윤인성  20190610  \n",
       "2                박응용  20190620  \n",
       "3                박상길  20200715  \n",
       "4            모리 요시나오  20211117  \n",
       "..               ...       ...  \n",
       "995     Douwe Osinga  20190107  \n",
       "996              김태식  20200207  \n",
       "997  키모 카르비넨|테로 카르비넨  20140106  \n",
       "998           닉 펜트레스  20160104  \n",
       "999         황원지앤|탕위앤  20181102  \n",
       "\n",
       "[1000 rows x 4 columns]"
      ]
     },
     "execution_count": 486,
     "metadata": {},
     "output_type": "execute_result"
    }
   ],
   "source": [
    "result_search.reset_index()"
   ]
  },
  {
   "cell_type": "code",
   "execution_count": 487,
   "id": "199d70f5",
   "metadata": {},
   "outputs": [],
   "source": [
    "result_search.reset_index(drop=True, inplace=True)"
   ]
  },
  {
   "cell_type": "code",
   "execution_count": 488,
   "id": "555a39a7",
   "metadata": {},
   "outputs": [
    {
     "data": {
      "text/html": [
       "<div>\n",
       "<style scoped>\n",
       "    .dataframe tbody tr th:only-of-type {\n",
       "        vertical-align: middle;\n",
       "    }\n",
       "\n",
       "    .dataframe tbody tr th {\n",
       "        vertical-align: top;\n",
       "    }\n",
       "\n",
       "    .dataframe thead th {\n",
       "        text-align: right;\n",
       "    }\n",
       "</style>\n",
       "<table border=\"1\" class=\"dataframe\">\n",
       "  <thead>\n",
       "    <tr style=\"text-align: right;\">\n",
       "      <th></th>\n",
       "      <th>책제목</th>\n",
       "      <th>작가</th>\n",
       "      <th>출판일</th>\n",
       "    </tr>\n",
       "  </thead>\n",
       "  <tbody>\n",
       "    <tr>\n",
       "      <th>0</th>\n",
       "      <td>이것이 취업을 위한 코딩 테스트다 with 파이썬&gt; (취업과 이직을 결정하는 알고리...</td>\n",
       "      <td>나동빈</td>\n",
       "      <td>20200805</td>\n",
       "    </tr>\n",
       "    <tr>\n",
       "      <th>1</th>\n",
       "      <td>혼자 공부하는 파이썬&gt; (파이썬&gt; 최신 버전 반영)</td>\n",
       "      <td>윤인성</td>\n",
       "      <td>20190610</td>\n",
       "    </tr>\n",
       "    <tr>\n",
       "      <th>2</th>\n",
       "      <td>Do it! 점프 투 파이썬&gt;</td>\n",
       "      <td>박응용</td>\n",
       "      <td>20190620</td>\n",
       "    </tr>\n",
       "    <tr>\n",
       "      <th>3</th>\n",
       "      <td>파이썬&gt; 알고리즘 인터뷰 (95가지 알고리즘 문제 풀이로 완성하는 코딩 테스트)</td>\n",
       "      <td>박상길</td>\n",
       "      <td>20200715</td>\n",
       "    </tr>\n",
       "    <tr>\n",
       "      <th>4</th>\n",
       "      <td>파이썬&gt;(Python) 2학년 스크래핑의 구조 (체험으로 배우고! 대화 형식으로 공부!)</td>\n",
       "      <td>모리 요시나오</td>\n",
       "      <td>20211117</td>\n",
       "    </tr>\n",
       "    <tr>\n",
       "      <th>...</th>\n",
       "      <td>...</td>\n",
       "      <td>...</td>\n",
       "      <td>...</td>\n",
       "    </tr>\n",
       "    <tr>\n",
       "      <th>995</th>\n",
       "      <td>Deep Learning Cookbook (빠르게 실무에 적용할 수 있는 딥러닝으로...</td>\n",
       "      <td>Douwe Osinga</td>\n",
       "      <td>20190107</td>\n",
       "    </tr>\n",
       "    <tr>\n",
       "      <th>996</th>\n",
       "      <td>재무빅데이터 분석사 2급 (하)</td>\n",
       "      <td>김태식</td>\n",
       "      <td>20200207</td>\n",
       "    </tr>\n",
       "    <tr>\n",
       "      <th>997</th>\n",
       "      <td>Make: 아두이노 DIY 프로젝트</td>\n",
       "      <td>키모 카르비넨|테로 카르비넨</td>\n",
       "      <td>20140106</td>\n",
       "    </tr>\n",
       "    <tr>\n",
       "      <th>998</th>\n",
       "      <td>Spark와 머신 러닝 (빅데이터 분석과 예측 모델 트레이닝을 위한)</td>\n",
       "      <td>닉 펜트레스</td>\n",
       "      <td>20160104</td>\n",
       "    </tr>\n",
       "    <tr>\n",
       "      <th>999</th>\n",
       "      <td>텐서플로우 원리와 응용 (예제로 풀어보는)</td>\n",
       "      <td>황원지앤|탕위앤</td>\n",
       "      <td>20181102</td>\n",
       "    </tr>\n",
       "  </tbody>\n",
       "</table>\n",
       "<p>1000 rows × 3 columns</p>\n",
       "</div>"
      ],
      "text/plain": [
       "                                                   책제목               작가  \\\n",
       "0    이것이 취업을 위한 코딩 테스트다 with 파이썬> (취업과 이직을 결정하는 알고리...              나동빈   \n",
       "1                         혼자 공부하는 파이썬> (파이썬> 최신 버전 반영)              윤인성   \n",
       "2                                     Do it! 점프 투 파이썬>              박응용   \n",
       "3         파이썬> 알고리즘 인터뷰 (95가지 알고리즘 문제 풀이로 완성하는 코딩 테스트)              박상길   \n",
       "4    파이썬>(Python) 2학년 스크래핑의 구조 (체험으로 배우고! 대화 형식으로 공부!)          모리 요시나오   \n",
       "..                                                 ...              ...   \n",
       "995  Deep Learning Cookbook (빠르게 실무에 적용할 수 있는 딥러닝으로...     Douwe Osinga   \n",
       "996                                  재무빅데이터 분석사 2급 (하)              김태식   \n",
       "997                                Make: 아두이노 DIY 프로젝트  키모 카르비넨|테로 카르비넨   \n",
       "998             Spark와 머신 러닝 (빅데이터 분석과 예측 모델 트레이닝을 위한)           닉 펜트레스   \n",
       "999                            텐서플로우 원리와 응용 (예제로 풀어보는)         황원지앤|탕위앤   \n",
       "\n",
       "          출판일  \n",
       "0    20200805  \n",
       "1    20190610  \n",
       "2    20190620  \n",
       "3    20200715  \n",
       "4    20211117  \n",
       "..        ...  \n",
       "995  20190107  \n",
       "996  20200207  \n",
       "997  20140106  \n",
       "998  20160104  \n",
       "999  20181102  \n",
       "\n",
       "[1000 rows x 3 columns]"
      ]
     },
     "execution_count": 488,
     "metadata": {},
     "output_type": "execute_result"
    }
   ],
   "source": [
    "result_search"
   ]
  },
  {
   "cell_type": "code",
   "execution_count": 489,
   "id": "78d2d665",
   "metadata": {},
   "outputs": [
    {
     "name": "stdout",
     "output_type": "stream",
     "text": [
      "<class 'pandas.core.frame.DataFrame'>\n",
      "RangeIndex: 1000 entries, 0 to 999\n",
      "Data columns (total 3 columns):\n",
      " #   Column  Non-Null Count  Dtype \n",
      "---  ------  --------------  ----- \n",
      " 0   책제목     1000 non-null   object\n",
      " 1   작가      1000 non-null   object\n",
      " 2   출판일     1000 non-null   object\n",
      "dtypes: object(3)\n",
      "memory usage: 23.6+ KB\n"
     ]
    }
   ],
   "source": [
    "result_search.info()"
   ]
  },
  {
   "cell_type": "code",
   "execution_count": 490,
   "id": "b4c56243",
   "metadata": {},
   "outputs": [
    {
     "name": "stdout",
     "output_type": "stream",
     "text": [
      "Requirement already satisfied: xlsxwriter in c:\\programdata\\anaconda3\\lib\\site-packages (1.3.8)\n"
     ]
    }
   ],
   "source": [
    "!pip install xlsxwriter"
   ]
  },
  {
   "cell_type": "code",
   "execution_count": 491,
   "id": "147fc34b",
   "metadata": {},
   "outputs": [],
   "source": [
    "import xlsxwriter"
   ]
  },
  {
   "cell_type": "code",
   "execution_count": 492,
   "id": "a44f284d",
   "metadata": {},
   "outputs": [],
   "source": [
    "writer = pd.ExcelWriter(\"./data/info.xlsx\", engine='xlsxwriter')\n",
    "result_search.to_excel(writer, sheet_name='Sheet1')\n",
    "\n",
    "workbook = writer.book\n",
    "worksheet = writer.sheets['Sheet1']\n",
    "\n",
    "format_center = workbook.add_format({'text_wrap':True})\n",
    "format_center.set_align('center')\n",
    "format_center.set_align('vcenter')\n",
    "\n",
    "worksheet.set_column('A:A', 5)\n",
    "worksheet.set_column('B:B', 90, format_center)\n",
    "worksheet.set_column('C:C', 40, format_center)\n",
    "worksheet.set_column('D:D', 15)\n",
    "\n",
    "writer.save()"
   ]
  },
  {
   "cell_type": "markdown",
   "id": "3b984322",
   "metadata": {},
   "source": [
    "https://xlsxwriter.readthedocs.io/ 참고 사이트"
   ]
  },
  {
   "cell_type": "code",
   "execution_count": null,
   "id": "d4c2e411",
   "metadata": {},
   "outputs": [],
   "source": []
  }
 ],
 "metadata": {
  "kernelspec": {
   "display_name": "Python 3",
   "language": "python",
   "name": "python3"
  },
  "language_info": {
   "codemirror_mode": {
    "name": "ipython",
    "version": 3
   },
   "file_extension": ".py",
   "mimetype": "text/x-python",
   "name": "python",
   "nbconvert_exporter": "python",
   "pygments_lexer": "ipython3",
   "version": "3.8.8"
  }
 },
 "nbformat": 4,
 "nbformat_minor": 5
}
